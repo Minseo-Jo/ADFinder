{
 "cells": [
  {
   "cell_type": "code",
   "execution_count": 31,
   "id": "ed6facf7",
   "metadata": {},
   "outputs": [],
   "source": [
    "from bs4 import BeautifulSoup\n",
    "import urllib.request\n",
    "import requests\n",
    "from urllib.parse import quote\n",
    "import pandas as pd\n",
    "import numpy as np\n",
    "\n",
    "from datetime import datetime\n",
    "\n",
    "import matplotlib.pyplot as plt\n",
    "import seaborn as sns\n",
    "\n",
    "import plotly.offline as py\n",
    "import plotly.express as px\n",
    "\n",
    "import plotly.graph_objs as go\n",
    "import plotly.figure_factory as ff"
   ]
  },
  {
   "cell_type": "code",
   "execution_count": 33,
   "id": "ad3845aa",
   "metadata": {
    "scrolled": false
   },
   "outputs": [
    {
     "data": {
      "text/html": [
       "<div>\n",
       "<style scoped>\n",
       "    .dataframe tbody tr th:only-of-type {\n",
       "        vertical-align: middle;\n",
       "    }\n",
       "\n",
       "    .dataframe tbody tr th {\n",
       "        vertical-align: top;\n",
       "    }\n",
       "\n",
       "    .dataframe thead th {\n",
       "        text-align: right;\n",
       "    }\n",
       "</style>\n",
       "<table border=\"1\" class=\"dataframe\">\n",
       "  <thead>\n",
       "    <tr style=\"text-align: right;\">\n",
       "      <th></th>\n",
       "      <th>Title</th>\n",
       "      <th>Post URL</th>\n",
       "      <th>Post</th>\n",
       "      <th>Post length</th>\n",
       "      <th>Keyword(내돈내산)</th>\n",
       "      <th>Sponsered word</th>\n",
       "      <th>Post Count</th>\n",
       "      <th>Date</th>\n",
       "      <th>Review Count</th>\n",
       "      <th>Image Count</th>\n",
       "      <th>Link Count</th>\n",
       "      <th>label</th>\n",
       "    </tr>\n",
       "  </thead>\n",
       "  <tbody>\n",
       "    <tr>\n",
       "      <th>0</th>\n",
       "      <td>효과본 사람이 추천하는 주름개선화장품</td>\n",
       "      <td>https://blog.naver.com/mgcho3/223223137751</td>\n",
       "      <td>관리 전제가 늙어간다는 생각을 안 해봤는데체력도 달라지고 피부도 점점 달라지는 모습...</td>\n",
       "      <td>2559</td>\n",
       "      <td>1</td>\n",
       "      <td>0</td>\n",
       "      <td>399</td>\n",
       "      <td>20231041310</td>\n",
       "      <td>NaN</td>\n",
       "      <td>13</td>\n",
       "      <td>0</td>\n",
       "      <td>0</td>\n",
       "    </tr>\n",
       "    <tr>\n",
       "      <th>1</th>\n",
       "      <td>비타민화장품 깨끗한 피부로</td>\n",
       "      <td>https://blog.naver.com/lovejungcy/223185240342</td>\n",
       "      <td>비타민화장품 깨끗한 피부로나이가 확실히 들어갈수록 점점 수분감도많이 줄어들기 시작을...</td>\n",
       "      <td>2671</td>\n",
       "      <td>0</td>\n",
       "      <td>1</td>\n",
       "      <td>761</td>\n",
       "      <td>20238171100</td>\n",
       "      <td>10.0</td>\n",
       "      <td>15</td>\n",
       "      <td>0</td>\n",
       "      <td>1</td>\n",
       "    </tr>\n",
       "    <tr>\n",
       "      <th>2</th>\n",
       "      <td>군대 px 화장품 내돈내산 진정템 추천</td>\n",
       "      <td>https://blog.naver.com/sesank/223196415814</td>\n",
       "      <td>잇님들 안녕하쎄우 ~~제가 저번에 동생 군대갔다 했는데시간이 벌써 그렇게 된곤지.....</td>\n",
       "      <td>3094</td>\n",
       "      <td>1</td>\n",
       "      <td>0</td>\n",
       "      <td>119</td>\n",
       "      <td>20238291103</td>\n",
       "      <td>10.0</td>\n",
       "      <td>20</td>\n",
       "      <td>0</td>\n",
       "      <td>0</td>\n",
       "    </tr>\n",
       "  </tbody>\n",
       "</table>\n",
       "</div>"
      ],
      "text/plain": [
       "                   Title                                        Post URL  \\\n",
       "0   효과본 사람이 추천하는 주름개선화장품      https://blog.naver.com/mgcho3/223223137751   \n",
       "1         비타민화장품 깨끗한 피부로  https://blog.naver.com/lovejungcy/223185240342   \n",
       "2  군대 px 화장품 내돈내산 진정템 추천      https://blog.naver.com/sesank/223196415814   \n",
       "\n",
       "                                                Post  Post length  \\\n",
       "0  관리 전제가 늙어간다는 생각을 안 해봤는데체력도 달라지고 피부도 점점 달라지는 모습...         2559   \n",
       "1  비타민화장품 깨끗한 피부로나이가 확실히 들어갈수록 점점 수분감도많이 줄어들기 시작을...         2671   \n",
       "2  잇님들 안녕하쎄우 ~~제가 저번에 동생 군대갔다 했는데시간이 벌써 그렇게 된곤지.....         3094   \n",
       "\n",
       "   Keyword(내돈내산)  Sponsered word  Post Count         Date  Review Count  \\\n",
       "0              1               0         399  20231041310           NaN   \n",
       "1              0               1         761  20238171100          10.0   \n",
       "2              1               0         119  20238291103          10.0   \n",
       "\n",
       "   Image Count  Link Count  label  \n",
       "0           13           0      0  \n",
       "1           15           0      1  \n",
       "2           20           0      0  "
      ]
     },
     "execution_count": 33,
     "metadata": {},
     "output_type": "execute_result"
    }
   ],
   "source": [
    "train = pd.read_csv('../data/train_777개.csv', index_col=0)\n",
    "train.head(3)"
   ]
  },
  {
   "cell_type": "markdown",
   "id": "ed51acd4",
   "metadata": {},
   "source": [
    "# 1. Data preprocessing\n"
   ]
  },
  {
   "cell_type": "markdown",
   "id": "6f903ddc",
   "metadata": {},
   "source": [
    "### 1-1. 데이터 요약 및 Feature 특성 파악\n",
    "\n",
    "#### Feature Type\n",
    "\n",
    "**Qualitative(categorical)**\n",
    "* Nominal\n",
    "    * Title\n",
    "    * Post URL\n",
    "    * Post\n",
    "    * Date\n",
    "    * keyword(내돈내산) - binary\n",
    "    * sponsered word - binary\n",
    "    \n",
    "**Quantitative(numerical)**\n",
    "* Discrete\n",
    "    * Review Count(float64)\n",
    "    * Post count\n",
    "    * Image Count\n",
    "    * Link Count\n",
    "* Continuous \n",
    "    * Post length\n",
    "\n",
    "#### Label \n",
    "\n",
    "* nominal - binary\n",
    "    * label(광고 : 1, 비광고:0) "
   ]
  },
  {
   "cell_type": "code",
   "execution_count": 34,
   "id": "5892ac3f",
   "metadata": {},
   "outputs": [
    {
     "name": "stdout",
     "output_type": "stream",
     "text": [
      "데이터 크기 :  (777, 12)\n",
      "\n",
      " train 데이터 정보\n",
      "<class 'pandas.core.frame.DataFrame'>\n",
      "Int64Index: 777 entries, 0 to 776\n",
      "Data columns (total 12 columns):\n",
      " #   Column          Non-Null Count  Dtype  \n",
      "---  ------          --------------  -----  \n",
      " 0   Title           777 non-null    object \n",
      " 1   Post URL        777 non-null    object \n",
      " 2   Post            777 non-null    object \n",
      " 3   Post length     777 non-null    int64  \n",
      " 4   Keyword(내돈내산)   777 non-null    int64  \n",
      " 5   Sponsered word  777 non-null    int64  \n",
      " 6   Post Count      777 non-null    int64  \n",
      " 7   Date            777 non-null    int64  \n",
      " 8   Review Count    734 non-null    float64\n",
      " 9   Image Count     777 non-null    int64  \n",
      " 10  Link Count      777 non-null    int64  \n",
      " 11  label           777 non-null    int64  \n",
      "dtypes: float64(1), int64(8), object(3)\n",
      "memory usage: 78.9+ KB\n",
      "None\n"
     ]
    }
   ],
   "source": [
    "print('데이터 크기 : ', train.shape)\n",
    "print('\\n train 데이터 정보')\n",
    "print(train.info())"
   ]
  },
  {
   "attachments": {
    "%E1%84%89%E1%85%B3%E1%84%8F%E1%85%B3%E1%84%85%E1%85%B5%E1%86%AB%E1%84%89%E1%85%A3%E1%86%BA%202023-12-05%20%E1%84%8B%E1%85%A9%E1%84%92%E1%85%AE%2011.48.24.png": {
     "image/png": "[encoded data removed]"
    }
   },
   "cell_type": "markdown",
   "id": "6a14c198",
   "metadata": {},
   "source": [
    "### 1-2. 결측치 확인 및 중복값 확인\n",
    "\n",
    "#### null 값 처리 : 0으로 채우기 (fillna)\n",
    "\n",
    "단어 개수에서 null 값이 나오는 경우는 다음과 같이 작성자가 댓글 창을 열어두지 않은 경우이다.\n",
    "\n",
    "![nn](attachment:%E1%84%89%E1%85%B3%E1%84%8F%E1%85%B3%E1%84%85%E1%85%B5%E1%86%AB%E1%84%89%E1%85%A3%E1%86%BA%202023-12-05%20%E1%84%8B%E1%85%A9%E1%84%92%E1%85%AE%2011.48.24.png)"
   ]
  },
  {
   "attachments": {
    "%E1%84%89%E1%85%B3%E1%84%8F%E1%85%B3%E1%84%85%E1%85%B5%E1%86%AB%E1%84%89%E1%85%A3%E1%86%BA%202023-12-05%20%E1%84%8B%E1%85%A9%E1%84%92%E1%85%AE%2011.51.07.png": {
     "image/png": "[encoded data removed]"
    }
   },
   "cell_type": "markdown",
   "id": "579084ab",
   "metadata": {},
   "source": [
    "단어 개수가 0인 경우는 실제로 댓글이 없는 경우이다. \n",
    "\n",
    "![nn](attachment:%E1%84%89%E1%85%B3%E1%84%8F%E1%85%B3%E1%84%85%E1%85%B5%E1%86%AB%E1%84%89%E1%85%A3%E1%86%BA%202023-12-05%20%E1%84%8B%E1%85%A9%E1%84%92%E1%85%AE%2011.51.07.png)\n",
    "\n",
    "따라서 null값은 0으로 처리해주었다."
   ]
  },
  {
   "cell_type": "code",
   "execution_count": 35,
   "id": "58dc7949",
   "metadata": {
    "scrolled": true
   },
   "outputs": [
    {
     "name": "stdout",
     "output_type": "stream",
     "text": [
      "null 값 확인 : \n",
      " Title              0\n",
      "Post URL           0\n",
      "Post               0\n",
      "Post length        0\n",
      "Keyword(내돈내산)      0\n",
      "Sponsered word     0\n",
      "Post Count         0\n",
      "Date               0\n",
      "Review Count      43\n",
      "Image Count        0\n",
      "Link Count         0\n",
      "label              0\n",
      "dtype: int64\n"
     ]
    }
   ],
   "source": [
    "# Missing value 처리\n",
    "print( 'null 값 확인 : \\n', train.isnull().sum())"
   ]
  },
  {
   "cell_type": "code",
   "execution_count": 36,
   "id": "51322fcf",
   "metadata": {
    "scrolled": false
   },
   "outputs": [
    {
     "data": {
      "text/html": [
       "<div>\n",
       "<style scoped>\n",
       "    .dataframe tbody tr th:only-of-type {\n",
       "        vertical-align: middle;\n",
       "    }\n",
       "\n",
       "    .dataframe tbody tr th {\n",
       "        vertical-align: top;\n",
       "    }\n",
       "\n",
       "    .dataframe thead th {\n",
       "        text-align: right;\n",
       "    }\n",
       "</style>\n",
       "<table border=\"1\" class=\"dataframe\">\n",
       "  <thead>\n",
       "    <tr style=\"text-align: right;\">\n",
       "      <th></th>\n",
       "      <th>Title</th>\n",
       "      <th>Post URL</th>\n",
       "      <th>Post</th>\n",
       "      <th>Post length</th>\n",
       "      <th>Keyword(내돈내산)</th>\n",
       "      <th>Sponsered word</th>\n",
       "      <th>Post Count</th>\n",
       "      <th>Date</th>\n",
       "      <th>Review Count</th>\n",
       "      <th>Image Count</th>\n",
       "      <th>Link Count</th>\n",
       "      <th>label</th>\n",
       "    </tr>\n",
       "  </thead>\n",
       "  <tbody>\n",
       "    <tr>\n",
       "      <th>0</th>\n",
       "      <td>효과본 사람이 추천하는 주름개선화장품</td>\n",
       "      <td>https://blog.naver.com/mgcho3/223223137751</td>\n",
       "      <td>관리 전제가 늙어간다는 생각을 안 해봤는데체력도 달라지고 피부도 점점 달라지는 모습...</td>\n",
       "      <td>2559</td>\n",
       "      <td>1</td>\n",
       "      <td>0</td>\n",
       "      <td>399</td>\n",
       "      <td>20231041310</td>\n",
       "      <td>0.0</td>\n",
       "      <td>13</td>\n",
       "      <td>0</td>\n",
       "      <td>0</td>\n",
       "    </tr>\n",
       "    <tr>\n",
       "      <th>1</th>\n",
       "      <td>비타민화장품 깨끗한 피부로</td>\n",
       "      <td>https://blog.naver.com/lovejungcy/223185240342</td>\n",
       "      <td>비타민화장품 깨끗한 피부로나이가 확실히 들어갈수록 점점 수분감도많이 줄어들기 시작을...</td>\n",
       "      <td>2671</td>\n",
       "      <td>0</td>\n",
       "      <td>1</td>\n",
       "      <td>761</td>\n",
       "      <td>20238171100</td>\n",
       "      <td>10.0</td>\n",
       "      <td>15</td>\n",
       "      <td>0</td>\n",
       "      <td>1</td>\n",
       "    </tr>\n",
       "    <tr>\n",
       "      <th>2</th>\n",
       "      <td>군대 px 화장품 내돈내산 진정템 추천</td>\n",
       "      <td>https://blog.naver.com/sesank/223196415814</td>\n",
       "      <td>잇님들 안녕하쎄우 ~~제가 저번에 동생 군대갔다 했는데시간이 벌써 그렇게 된곤지.....</td>\n",
       "      <td>3094</td>\n",
       "      <td>1</td>\n",
       "      <td>0</td>\n",
       "      <td>119</td>\n",
       "      <td>20238291103</td>\n",
       "      <td>10.0</td>\n",
       "      <td>20</td>\n",
       "      <td>0</td>\n",
       "      <td>0</td>\n",
       "    </tr>\n",
       "  </tbody>\n",
       "</table>\n",
       "</div>"
      ],
      "text/plain": [
       "                   Title                                        Post URL  \\\n",
       "0   효과본 사람이 추천하는 주름개선화장품      https://blog.naver.com/mgcho3/223223137751   \n",
       "1         비타민화장품 깨끗한 피부로  https://blog.naver.com/lovejungcy/223185240342   \n",
       "2  군대 px 화장품 내돈내산 진정템 추천      https://blog.naver.com/sesank/223196415814   \n",
       "\n",
       "                                                Post  Post length  \\\n",
       "0  관리 전제가 늙어간다는 생각을 안 해봤는데체력도 달라지고 피부도 점점 달라지는 모습...         2559   \n",
       "1  비타민화장품 깨끗한 피부로나이가 확실히 들어갈수록 점점 수분감도많이 줄어들기 시작을...         2671   \n",
       "2  잇님들 안녕하쎄우 ~~제가 저번에 동생 군대갔다 했는데시간이 벌써 그렇게 된곤지.....         3094   \n",
       "\n",
       "   Keyword(내돈내산)  Sponsered word  Post Count         Date  Review Count  \\\n",
       "0              1               0         399  20231041310           0.0   \n",
       "1              0               1         761  20238171100          10.0   \n",
       "2              1               0         119  20238291103          10.0   \n",
       "\n",
       "   Image Count  Link Count  label  \n",
       "0           13           0      0  \n",
       "1           15           0      1  \n",
       "2           20           0      0  "
      ]
     },
     "execution_count": 36,
     "metadata": {},
     "output_type": "execute_result"
    }
   ],
   "source": [
    "# fillna(0) null value \n",
    "train = train.fillna(0)\n",
    "train.head(3)"
   ]
  },
  {
   "cell_type": "markdown",
   "id": "491b73e7",
   "metadata": {},
   "source": [
    "### 1-3. Data type 인코딩"
   ]
  },
  {
   "cell_type": "markdown",
   "id": "b14cb25a",
   "metadata": {},
   "source": [
    "## 1-3. 레이블 분포 확인"
   ]
  },
  {
   "cell_type": "code",
   "execution_count": 37,
   "id": "b39b65a4",
   "metadata": {},
   "outputs": [
    {
     "data": {
      "text/plain": [
       "1    494\n",
       "0    283\n",
       "Name: label, dtype: int64"
      ]
     },
     "execution_count": 37,
     "metadata": {},
     "output_type": "execute_result"
    }
   ],
   "source": [
    "train['label'].value_counts()"
   ]
  },
  {
   "cell_type": "markdown",
   "id": "106fd7e2",
   "metadata": {},
   "source": [
    "## 1-4. Feature 분포확인 (이상치 전처리)"
   ]
  },
  {
   "cell_type": "markdown",
   "id": "05079719",
   "metadata": {},
   "source": [
    "### 1-4-1. Post length\n",
    "\n",
    "Post length 의 경우 5000 값을 넘어가는 이상치가 확인되었다. \n",
    "\n",
    "이상치 데이터가 모델학습에 반영되면 weight 가 급격하게 커지거나 작아질 수 있다.\n",
    "\n",
    "만약 길이가 길수록 광고일 확률이 높아진다고 하자\n",
    "\n",
    "Post length의 경우 평균값이 약 2500정도이지만 이상치가 포함되었을 때 모델이 4000이상의 값에 대해서도 크지 않다고 판단해버릴 수 있다. \n",
    "\n",
    "그렇게 되면 모델이 광고,비광고 여부를 판단하는데 이러한 영향이 크게 작용할 수 있기 때문에 이상치를 제거해주었다.\n",
    "\n",
    "IQR 방법을 통해 outlier 를 정의하고 이를 상한값으로 대체해주었다. "
   ]
  },
  {
   "cell_type": "code",
   "execution_count": 38,
   "id": "fbeafe5d",
   "metadata": {},
   "outputs": [
    {
     "data": {
      "text/plain": [
       "{'whiskers': [<matplotlib.lines.Line2D at 0x7f9f3050eeb0>,\n",
       "  <matplotlib.lines.Line2D at 0x7f9f3051f1c0>],\n",
       " 'caps': [<matplotlib.lines.Line2D at 0x7f9f3051f490>,\n",
       "  <matplotlib.lines.Line2D at 0x7f9f3051f760>],\n",
       " 'boxes': [<matplotlib.lines.Line2D at 0x7f9f3050ebe0>],\n",
       " 'medians': [<matplotlib.lines.Line2D at 0x7f9f3051fa30>],\n",
       " 'fliers': [<matplotlib.lines.Line2D at 0x7f9f3051ffd0>],\n",
       " 'means': [<matplotlib.lines.Line2D at 0x7f9f3051fd00>]}"
      ]
     },
     "execution_count": 38,
     "metadata": {},
     "output_type": "execute_result"
    },
    {
     "data": {
      "image/png": "[encoded data removed]",
      "text/plain": [
       "<Figure size 864x360 with 1 Axes>"
      ]
     },
     "metadata": {
      "needs_background": "light"
     },
     "output_type": "display_data"
    }
   ],
   "source": [
    "# boxplot\n",
    "plt.figure(figsize=(12,5))\n",
    "plt.boxplot(train['Post length'], labels=['Post length'], showmeans=True)"
   ]
  },
  {
   "cell_type": "code",
   "execution_count": 39,
   "id": "52f5f99f",
   "metadata": {},
   "outputs": [
    {
     "name": "stdout",
     "output_type": "stream",
     "text": [
      "하한값 :  289.5\n",
      "상한값 :  4205.5\n",
      "이상치 : 67     4308\n",
      "214    5077\n",
      "224    4427\n",
      "429    6312\n",
      "484    5636\n",
      "504    4292\n",
      "577    4308\n",
      "639    5077\n",
      "756    4292\n",
      "Name: Post length, dtype: int64\n",
      "이상치의 개수: 9\n"
     ]
    },
    {
     "data": {
      "image/png": "[encoded data removed]",
      "text/plain": [
       "<Figure size 864x360 with 1 Axes>"
      ]
     },
     "metadata": {
      "needs_background": "light"
     },
     "output_type": "display_data"
    }
   ],
   "source": [
    "# IQR 이상치\n",
    "Q1 = train['Post length'].quantile(0.25)\n",
    "Q3 = train['Post length'].quantile(0.75)\n",
    "IQR = Q3 - Q1\n",
    "\n",
    "lower_bound = Q1 - 1.5 * IQR\n",
    "upper_bound = Q3 + 1.5 * IQR\n",
    "\n",
    "print('하한값 : ', lower_bound)\n",
    "print('상한값 : ', upper_bound)\n",
    "\n",
    "# 이상치 찾기\n",
    "outliers = train[(train['Post length'] < lower_bound) | (train['Post length'] > upper_bound)]\n",
    "print('이상치 :' , outliers['Post length'])\n",
    "\n",
    "# 이상치 개수 출력\n",
    "num_outliers = len(outliers)\n",
    "print(f\"이상치의 개수: {num_outliers}\")\n",
    "\n",
    "# 이상치를 상한 값으로 대체\n",
    "train['Post length'] = np.clip(train['Post length'], lower_bound, upper_bound)\n",
    "\n",
    "# Boxplot 그리기\n",
    "plt.figure(figsize=(12, 5))\n",
    "plt.boxplot(train['Post length'], labels=['Post length'], showmeans=True)\n",
    "plt.title('Boxplot with Upper Bound Replacement')\n",
    "plt.show()"
   ]
  },
  {
   "cell_type": "code",
   "execution_count": 19,
   "id": "4c0a5415",
   "metadata": {},
   "outputs": [
    {
     "data": {
      "text/plain": [
       "777"
      ]
     },
     "execution_count": 19,
     "metadata": {},
     "output_type": "execute_result"
    }
   ],
   "source": [
    "train.shape[0]"
   ]
  },
  {
   "cell_type": "markdown",
   "id": "36a54b84",
   "metadata": {},
   "source": [
    "이상치 대체 후 광고, 비광고 데이터 통계치를 비교해 본 결과, 광고성 데이터가 평균이 더 크게나오는 것을 확인할 수 있다."
   ]
  },
  {
   "cell_type": "code",
   "execution_count": 40,
   "id": "23dfbf21",
   "metadata": {},
   "outputs": [
    {
     "data": {
      "text/plain": [
       "count     494.000000\n",
       "mean     2318.459514\n",
       "std       703.257785\n",
       "min       611.000000\n",
       "25%      1815.000000\n",
       "50%      2339.000000\n",
       "75%      2767.000000\n",
       "max      4205.500000\n",
       "Name: Post length, dtype: float64"
      ]
     },
     "metadata": {},
     "output_type": "display_data"
    },
    {
     "data": {
      "text/plain": [
       "count     283.000000\n",
       "mean     2141.355124\n",
       "std       743.707108\n",
       "min       479.000000\n",
       "25%      1649.000000\n",
       "50%      2098.000000\n",
       "75%      2628.500000\n",
       "max      4205.500000\n",
       "Name: Post length, dtype: float64"
      ]
     },
     "metadata": {},
     "output_type": "display_data"
    }
   ],
   "source": [
    "#광고, 비광고 평균 차이\n",
    "ad_train = train.loc[train['label']==1]\n",
    "nad_train = train.loc[train['label']==0]\n",
    "\n",
    "\n",
    "display(ad_train['Post length'].describe(), \n",
    "       nad_train['Post length'].describe())"
   ]
  },
  {
   "cell_type": "code",
   "execution_count": 41,
   "id": "b37207e6",
   "metadata": {},
   "outputs": [
    {
     "name": "stdout",
     "output_type": "stream",
     "text": [
      "t-statistic: 3.3075470994466265\n",
      "p-value: 0.0009845621598121527\n",
      "두 집단 간의 차이는 유의미하다.\n"
     ]
    }
   ],
   "source": [
    "from scipy import stats\n",
    "\n",
    "# 두 집단의 데이터 추출\n",
    "data_ad = ad_train['Post length']\n",
    "data_nad = nad_train['Post length']\n",
    "\n",
    "# 등분산을 가정한 t-검정\n",
    "t_statistic, p_value = stats.ttest_ind(data_ad, data_nad)\n",
    "\n",
    "# t-검정 결과 출력\n",
    "print(f\"t-statistic: {t_statistic}\")\n",
    "print(f\"p-value: {p_value}\")\n",
    "\n",
    "# p-value를 기준으로 유의수준(일반적으로 0.05)과 비교하여 유의미한지 판단\n",
    "if p_value < 0.05:\n",
    "    print(\"두 집단 간의 차이는 유의미하다.\")\n",
    "else:\n",
    "    print(\"두 집단 간의 차이는 유의미하지 않다.\")\n",
    "    \n",
    "#  t검정을 진행한 결과 p-value는 유의수준 0.05 보다 작기때문에 95%확률로 집단간의 차이가 유의미하다. "
   ]
  },
  {
   "cell_type": "code",
   "execution_count": 42,
   "id": "97183f2a",
   "metadata": {},
   "outputs": [
    {
     "data": {
      "text/plain": [
       "([<matplotlib.axis.XTick at 0x7f9f79109f70>,\n",
       "  <matplotlib.axis.XTick at 0x7f9f79109f40>],\n",
       " [Text(0, 0, 'Not AD'), Text(1, 0, 'AD')])"
      ]
     },
     "execution_count": 42,
     "metadata": {},
     "output_type": "execute_result"
    },
    {
     "data": {
      "image/png": "[encoded data removed]",
      "text/plain": [
       "<Figure size 360x576 with 1 Axes>"
      ]
     },
     "metadata": {
      "needs_background": "light"
     },
     "output_type": "display_data"
    }
   ],
   "source": [
    "# boxplot 시각화 \n",
    "plt.figure(figsize=(5, 8))\n",
    "plt.title('AD vs Not AD Post length')\n",
    "sns.boxplot(data=train, x = 'label', y = 'Post length')\n",
    "plt.xticks(ticks=[0, 1], labels=['Not AD', 'AD'])"
   ]
  },
  {
   "cell_type": "markdown",
   "id": "9d1c795f",
   "metadata": {},
   "source": [
    "### 1-4-2.  Post count\n",
    "\n",
    "quantitative(numerical), discrete데이터인 post count 에 대해서도 분포를 확인해본다. \n",
    "\n",
    "이상치가 발견되면 앞과 같은 방법으로 제거해준다.\n",
    "\n",
    "크롤링 도중 무한대의 값이 출력되어 잘못된 값이 나온 것으로 확인된다. \n",
    "\n",
    "총 4개 정도의 말도 안되는 이상치 값이 나와 이를 제거해주었다. \n",
    "\n",
    "따라서 lower,upperbound 값을 조정하여 말도안되는? 값을 제거해주었다. 그리고 boxplot을 다시 시각화하여 보았다."
   ]
  },
  {
   "cell_type": "code",
   "execution_count": 43,
   "id": "1288e870",
   "metadata": {},
   "outputs": [
    {
     "data": {
      "image/png": "[encoded data removed]",
      "text/plain": [
       "<Figure size 864x360 with 1 Axes>"
      ]
     },
     "metadata": {
      "needs_background": "light"
     },
     "output_type": "display_data"
    }
   ],
   "source": [
    "# 이상한 이상치가 너무 많음\n",
    "plt.figure(figsize=(12, 5))\n",
    "plt.boxplot(train['Post Count'], labels=['Post Count'], showmeans=True)\n",
    "plt.title('Boxplot without Outliers')\n",
    "plt.show()"
   ]
  },
  {
   "cell_type": "markdown",
   "id": "83ad2c8a",
   "metadata": {},
   "source": [
    "해당 이상치 값은 말도 안되는 수치임을 확인할 수 있다. IQR 방법으로 이상치를 제거한다."
   ]
  },
  {
   "cell_type": "code",
   "execution_count": 44,
   "id": "57db3ea2",
   "metadata": {},
   "outputs": [
    {
     "name": "stdout",
     "output_type": "stream",
     "text": [
      "하한값 :  -542.0\n",
      "상한값 :  1122.0\n",
      "이상치 최소 값 : 1160\n",
      "이상치 최대 값 : 42023110\n",
      "이상치의 개수: 75\n"
     ]
    },
    {
     "data": {
      "text/plain": [
       "([<matplotlib.axis.XTick at 0x7f9f39aca520>,\n",
       "  <matplotlib.axis.XTick at 0x7f9f39aca4f0>],\n",
       " [Text(0, 0, 'Not AD'), Text(1, 0, 'AD')])"
      ]
     },
     "execution_count": 44,
     "metadata": {},
     "output_type": "execute_result"
    },
    {
     "data": {
      "image/png": "[encoded data removed]",
      "text/plain": [
       "<Figure size 360x576 with 1 Axes>"
      ]
     },
     "metadata": {
      "needs_background": "light"
     },
     "output_type": "display_data"
    }
   ],
   "source": [
    "# IQR 이상치 제거\n",
    "Q1 = train['Post Count'].quantile(0.25)\n",
    "Q3 = train['Post Count'].quantile(0.75)\n",
    "IQR = Q3 - Q1\n",
    "\n",
    "lower_bound = Q1 - 1.5 * IQR\n",
    "upper_bound = Q3 + 1.5 * IQR\n",
    "\n",
    "print('하한값 : ', lower_bound)\n",
    "print('상한값 : ', upper_bound)\n",
    "\n",
    "# 이상치 찾기\n",
    "outliers = train[(train['Post Count'] < lower_bound) | (train['Post Count'] > upper_bound)]\n",
    "\n",
    "print('이상치 최소 값 :', outliers['Post Count'].min())\n",
    "print('이상치 최대 값 :', outliers['Post Count'].max())\n",
    "\n",
    "\n",
    "# 이상치 개수 출력\n",
    "num_outliers = len(outliers)\n",
    "print(f\"이상치의 개수: {num_outliers}\")\n",
    "\n",
    "# 이상치를 상한 값으로 대체\n",
    "train['Post Count'] = np.clip(train['Post Count'], lower_bound, upper_bound)\n",
    "\n",
    "plt.figure(figsize=(5, 8))\n",
    "plt.title('AD vs Not AD Post Count')\n",
    "sns.boxplot(data=train, x = 'label', y = 'Post Count')\n",
    "plt.xticks(ticks=[0, 1], labels=['Not AD', 'AD'])"
   ]
  },
  {
   "cell_type": "markdown",
   "id": "bcffeda4",
   "metadata": {},
   "source": [
    "광고인 경우에 좀 Post 가 더 많은 것을 확인할 수 있다. 하지만 크게 차이는 나지 않는다. "
   ]
  },
  {
   "cell_type": "code",
   "execution_count": 45,
   "id": "1ddb08aa",
   "metadata": {},
   "outputs": [
    {
     "data": {
      "text/plain": [
       "count     494.000000\n",
       "mean      337.801619\n",
       "std       333.812954\n",
       "min         0.000000\n",
       "25%        93.250000\n",
       "50%       207.000000\n",
       "75%       498.000000\n",
       "max      1122.000000\n",
       "Name: Post Count, dtype: float64"
      ]
     },
     "metadata": {},
     "output_type": "display_data"
    },
    {
     "data": {
      "text/plain": [
       "count     283.000000\n",
       "mean      358.996466\n",
       "std       381.450261\n",
       "min         0.000000\n",
       "25%        56.000000\n",
       "50%       191.000000\n",
       "75%       517.500000\n",
       "max      1122.000000\n",
       "Name: Post Count, dtype: float64"
      ]
     },
     "metadata": {},
     "output_type": "display_data"
    }
   ],
   "source": [
    "ad_train = train.loc[train['label']==1]\n",
    "nad_train = train.loc[train['label']==0]\n",
    "display(ad_train['Post Count'].describe(), nad_train['Post Count'].describe())"
   ]
  },
  {
   "cell_type": "code",
   "execution_count": 46,
   "id": "2e2ae60f",
   "metadata": {},
   "outputs": [
    {
     "name": "stdout",
     "output_type": "stream",
     "text": [
      "t-statistic: -0.8079131689361261\n",
      "p-value: 0.419388475921574\n",
      "두 집단 간의 차이는 유의미하지 않다.\n"
     ]
    }
   ],
   "source": [
    "from scipy import stats\n",
    "\n",
    "# 두 집단의 데이터 추출\n",
    "data_ad = ad_train['Post Count']\n",
    "data_nad = nad_train['Post Count']\n",
    "\n",
    "# 등분산을 가정한 t-검정\n",
    "t_statistic, p_value = stats.ttest_ind(data_ad, data_nad)\n",
    "\n",
    "# t-검정 결과 출력\n",
    "print(f\"t-statistic: {t_statistic}\")\n",
    "print(f\"p-value: {p_value}\")\n",
    "\n",
    "# p-value를 기준으로 유의수준(일반적으로 0.05)과 비교하여 유의미한지 판단\n",
    "if p_value < 0.05:\n",
    "    print(\"두 집단 간의 차이는 유의미하다.\")\n",
    "else:\n",
    "    print(\"두 집단 간의 차이는 유의미하지 않다.\")"
   ]
  },
  {
   "cell_type": "code",
   "execution_count": 47,
   "id": "fd59dbda",
   "metadata": {},
   "outputs": [
    {
     "data": {
      "text/plain": [
       "777"
      ]
     },
     "execution_count": 47,
     "metadata": {},
     "output_type": "execute_result"
    }
   ],
   "source": [
    "train.shape[0]"
   ]
  },
  {
   "cell_type": "markdown",
   "id": "f12a4e4c",
   "metadata": {},
   "source": [
    "### 1-4-2. Review Count\n",
    "\n",
    "Not AD 쪽에서 이상치가 있는 것을 확인할 수 있다. "
   ]
  },
  {
   "cell_type": "code",
   "execution_count": 21,
   "id": "a428f422",
   "metadata": {},
   "outputs": [
    {
     "data": {
      "text/plain": [
       "([<matplotlib.axis.XTick at 0x7f8b89e6fe80>,\n",
       "  <matplotlib.axis.XTick at 0x7f8b89e6fe50>],\n",
       " [Text(0, 0, 'Not AD'), Text(1, 0, 'AD')])"
      ]
     },
     "execution_count": 21,
     "metadata": {},
     "output_type": "execute_result"
    },
    {
     "data": {
      "image/png": "[encoded data removed]",
      "text/plain": [
       "<Figure size 1296x360 with 2 Axes>"
      ]
     },
     "metadata": {
      "needs_background": "light"
     },
     "output_type": "display_data"
    }
   ],
   "source": [
    "#boxplot\n",
    "plt.figure(figsize=(18, 5))\n",
    "\n",
    "# 전체 분포에 대한 boxplot\n",
    "plt.subplot(1, 2, 1)\n",
    "plt.boxplot(train['Review Count'], labels=['Review Count'], showmeans=True)\n",
    "plt.title('Review Count')\n",
    "\n",
    "# 광고/비광고 별 boxplot\n",
    "plt.subplot(1, 2, 2)\n",
    "plt.title('AD vs Not AD Review Count')\n",
    "sns.boxplot(data=train, x='label', y='Review Count')\n",
    "plt.xticks(ticks=[0, 1], labels=['Not AD', 'AD'])"
   ]
  },
  {
   "cell_type": "code",
   "execution_count": 23,
   "id": "391d4f89",
   "metadata": {
    "scrolled": false
   },
   "outputs": [
    {
     "name": "stdout",
     "output_type": "stream",
     "text": [
      "이상치의 개수: 0\n"
     ]
    },
    {
     "data": {
      "text/plain": [
       "([<matplotlib.axis.XTick at 0x7f8b98931fd0>,\n",
       "  <matplotlib.axis.XTick at 0x7f8b98931fa0>],\n",
       " [Text(0, 0, 'Not AD'), Text(1, 0, 'AD')])"
      ]
     },
     "execution_count": 23,
     "metadata": {},
     "output_type": "execute_result"
    },
    {
     "data": {
      "image/png": "[encoded data removed]",
      "text/plain": [
       "<Figure size 1296x360 with 2 Axes>"
      ]
     },
     "metadata": {
      "needs_background": "light"
     },
     "output_type": "display_data"
    }
   ],
   "source": [
    "# IQR 이상치\n",
    "Q1 = train['Review Count'].quantile(0.25)\n",
    "Q3 = train['Review Count'].quantile(0.75)\n",
    "IQR = Q3 - Q1\n",
    "\n",
    "lower_bound = Q1 - 1.5 * IQR\n",
    "upper_bound = Q3 + 1.5 * IQR\n",
    "\n",
    "# 이상치 찾기\n",
    "outliers = train[(train['Review Count'] < lower_bound) | (train['Review Count'] > upper_bound)]\n",
    "\n",
    "# 이상치 개수 출력\n",
    "num_outliers = len(outliers)\n",
    "print(f\"이상치의 개수: {num_outliers}\")\n",
    "\n",
    "# 이상치를 상한 값으로 대체\n",
    "train['Review Count'] = np.clip(train['Review Count'], lower_bound, upper_bound)\n",
    "\n",
    "#boxplot\n",
    "plt.figure(figsize=(18, 5))\n",
    "\n",
    "# 전체 분포에 대한 boxplot\n",
    "plt.subplot(1, 2, 1)\n",
    "plt.boxplot(train['Review Count'], labels=['Review Count'], showmeans=True)\n",
    "plt.title('Review Count')\n",
    "\n",
    "# 광고/비광고 별 boxplot\n",
    "plt.subplot(1, 2, 2)\n",
    "plt.title('AD vs Not AD Review Count')\n",
    "sns.boxplot(data=train, x='label', y='Review Count')\n",
    "plt.xticks(ticks=[0, 1], labels=['Not AD', 'AD'])"
   ]
  },
  {
   "cell_type": "markdown",
   "id": "26d981fc",
   "metadata": {},
   "source": [
    "비광고에서 댓글수가 더 많은 것을 확인할 수 있다. 하지만 큰 차이는 발견되지 않는다."
   ]
  },
  {
   "cell_type": "code",
   "execution_count": 24,
   "id": "0882d72d",
   "metadata": {},
   "outputs": [
    {
     "data": {
      "text/plain": [
       "count    494.000000\n",
       "mean       6.105263\n",
       "std        6.052262\n",
       "min        0.000000\n",
       "25%        2.000000\n",
       "50%        5.000000\n",
       "75%        8.750000\n",
       "max       22.000000\n",
       "Name: Review Count, dtype: float64"
      ]
     },
     "metadata": {},
     "output_type": "display_data"
    },
    {
     "data": {
      "text/plain": [
       "count    283.000000\n",
       "mean       8.031802\n",
       "std        7.388585\n",
       "min        0.000000\n",
       "25%        2.000000\n",
       "50%        6.000000\n",
       "75%       12.000000\n",
       "max       22.000000\n",
       "Name: Review Count, dtype: float64"
      ]
     },
     "metadata": {},
     "output_type": "display_data"
    }
   ],
   "source": [
    "ad_train = train.loc[train['label']==1]\n",
    "nad_train = train.loc[train['label']==0]\n",
    "display(ad_train['Review Count'].describe(), nad_train['Review Count'].describe())"
   ]
  },
  {
   "cell_type": "code",
   "execution_count": 25,
   "id": "d5331129",
   "metadata": {},
   "outputs": [
    {
     "name": "stdout",
     "output_type": "stream",
     "text": [
      "t-statistic: -3.9332879074574763\n",
      "p-value: 9.130477228437476e-05\n",
      "두 집단 간의 차이는 유의미하다.\n"
     ]
    }
   ],
   "source": [
    "from scipy import stats\n",
    "\n",
    "# 두 집단의 데이터 추출\n",
    "data_ad = ad_train['Review Count']\n",
    "data_nad = nad_train['Review Count']\n",
    "\n",
    "# 등분산을 가정한 t-검정\n",
    "t_statistic, p_value = stats.ttest_ind(data_ad, data_nad)\n",
    "\n",
    "# t-검정 결과 출력\n",
    "print(f\"t-statistic: {t_statistic}\")\n",
    "print(f\"p-value: {p_value}\")\n",
    "\n",
    "# p-value를 기준으로 유의수준(일반적으로 0.05)과 비교하여 유의미한지 판단\n",
    "if p_value < 0.05:\n",
    "    print(\"두 집단 간의 차이는 유의미하다.\")\n",
    "else:\n",
    "    print(\"두 집단 간의 차이는 유의미하지 않다.\")\n",
    "    \n",
    "# 유의미하다. "
   ]
  },
  {
   "cell_type": "code",
   "execution_count": 22,
   "id": "a9e0e863",
   "metadata": {},
   "outputs": [
    {
     "data": {
      "text/plain": [
       "777"
      ]
     },
     "execution_count": 22,
     "metadata": {},
     "output_type": "execute_result"
    }
   ],
   "source": [
    "train.shape[0]"
   ]
  },
  {
   "cell_type": "markdown",
   "id": "50748a13",
   "metadata": {},
   "source": [
    "### 1-4-4. Image Count"
   ]
  },
  {
   "cell_type": "code",
   "execution_count": 48,
   "id": "1473be08",
   "metadata": {},
   "outputs": [
    {
     "data": {
      "text/plain": [
       "([<matplotlib.axis.XTick at 0x7f9f3159f7f0>,\n",
       "  <matplotlib.axis.XTick at 0x7f9f3159f7c0>],\n",
       " [Text(0, 0, 'Not AD'), Text(1, 0, 'AD')])"
      ]
     },
     "execution_count": 48,
     "metadata": {},
     "output_type": "execute_result"
    },
    {
     "data": {
      "image/png": "[encoded data removed]",
      "text/plain": [
       "<Figure size 1296x360 with 2 Axes>"
      ]
     },
     "metadata": {
      "needs_background": "light"
     },
     "output_type": "display_data"
    }
   ],
   "source": [
    "#boxplot\n",
    "plt.figure(figsize=(18, 5))\n",
    "\n",
    "# 전체 분포에 대한 boxplot\n",
    "plt.subplot(1, 2, 1)\n",
    "plt.boxplot(train['Image Count'], labels=['Image Count'], showmeans=True)\n",
    "plt.title('Image Count')\n",
    "\n",
    "# 광고/비광고 별 boxplot\n",
    "plt.subplot(1, 2, 2)\n",
    "plt.title('AD vs Not AD Image Count')\n",
    "sns.boxplot(data=train, x='label', y='Image Count')\n",
    "plt.xticks(ticks=[0, 1], labels=['Not AD', 'AD'])"
   ]
  },
  {
   "cell_type": "code",
   "execution_count": 49,
   "id": "2acbf26a",
   "metadata": {},
   "outputs": [
    {
     "name": "stdout",
     "output_type": "stream",
     "text": [
      "하한값 :  -8.5\n",
      "상한값 :  51.5\n",
      "이상치 최소 값 : 52\n",
      "이상치 최대 값 : 91\n",
      "이상치의 개수: 24\n"
     ]
    },
    {
     "data": {
      "text/plain": [
       "([<matplotlib.axis.XTick at 0x7f9f39b14790>,\n",
       "  <matplotlib.axis.XTick at 0x7f9f39b14760>],\n",
       " [Text(0, 0, 'Not AD'), Text(1, 0, 'AD')])"
      ]
     },
     "execution_count": 49,
     "metadata": {},
     "output_type": "execute_result"
    },
    {
     "data": {
      "image/png": "[encoded data removed]",
      "text/plain": [
       "<Figure size 360x576 with 1 Axes>"
      ]
     },
     "metadata": {
      "needs_background": "light"
     },
     "output_type": "display_data"
    }
   ],
   "source": [
    "# IQR 이상치 제거\n",
    "Q1 = train['Image Count'].quantile(0.25)\n",
    "Q3 = train['Image Count'].quantile(0.75)\n",
    "IQR = Q3 - Q1\n",
    "\n",
    "lower_bound = Q1 - 1.5 * IQR\n",
    "upper_bound = Q3 + 1.5 * IQR\n",
    "\n",
    "print('하한값 : ', lower_bound)\n",
    "print('상한값 : ', upper_bound)\n",
    "\n",
    "# 이상치 찾기\n",
    "outliers = train[(train['Image Count'] < lower_bound) | (train['Image Count'] > upper_bound)]\n",
    "\n",
    "print('이상치 최소 값 :', outliers['Image Count'].min())\n",
    "print('이상치 최대 값 :', outliers['Image Count'].max())\n",
    "\n",
    "# 이상치 개수 출력\n",
    "num_outliers = len(outliers)\n",
    "print(f\"이상치의 개수: {num_outliers}\")\n",
    "\n",
    "# 이상치를 상한 값으로 대체\n",
    "train['Image Count'] = np.clip(train['Image Count'], lower_bound, upper_bound)\n",
    "\n",
    "# 이상치 제거 후 boxplot \n",
    "plt.figure(figsize=(5, 8))\n",
    "plt.title('AD vs Not AD Image Count')\n",
    "sns.boxplot(data=train, x = 'label', y = 'Image Count')\n",
    "plt.xticks(ticks=[0, 1], labels=['Not AD', 'AD'])"
   ]
  },
  {
   "cell_type": "markdown",
   "id": "874032f0",
   "metadata": {},
   "source": [
    "평균의 차이가 약간 나는 것을 확인할 수 있다. 광고 리뷰가 이미지 개수가 좀 더 많다."
   ]
  },
  {
   "cell_type": "code",
   "execution_count": 50,
   "id": "c00cdcad",
   "metadata": {
    "scrolled": true
   },
   "outputs": [
    {
     "data": {
      "text/plain": [
       "count    494.000000\n",
       "mean      23.161943\n",
       "std       10.724661\n",
       "min        0.000000\n",
       "25%       16.000000\n",
       "50%       21.000000\n",
       "75%       29.000000\n",
       "max       51.500000\n",
       "Name: Image Count, dtype: float64"
      ]
     },
     "metadata": {},
     "output_type": "display_data"
    },
    {
     "data": {
      "text/plain": [
       "count    283.000000\n",
       "mean      20.918728\n",
       "std       12.479221\n",
       "min        0.000000\n",
       "25%       11.000000\n",
       "50%       20.000000\n",
       "75%       29.000000\n",
       "max       51.500000\n",
       "Name: Image Count, dtype: float64"
      ]
     },
     "metadata": {},
     "output_type": "display_data"
    }
   ],
   "source": [
    "ad_train = train.loc[train['label']==1]\n",
    "nad_train = train.loc[train['label']==0]\n",
    "display(ad_train['Image Count'].describe(), nad_train['Image Count'].describe())"
   ]
  },
  {
   "cell_type": "code",
   "execution_count": 51,
   "id": "120e985c",
   "metadata": {},
   "outputs": [
    {
     "name": "stdout",
     "output_type": "stream",
     "text": [
      "t-statistic: 2.6407389914767694\n",
      "p-value: 0.00843909033243817\n",
      "두 집단 간의 차이는 유의미하다.\n"
     ]
    }
   ],
   "source": [
    "from scipy import stats\n",
    "\n",
    "# 두 집단의 데이터 추출\n",
    "data_ad = ad_train['Image Count']\n",
    "data_nad = nad_train['Image Count']\n",
    "\n",
    "# 등분산을 가정한 t-검정\n",
    "t_statistic, p_value = stats.ttest_ind(data_ad, data_nad)\n",
    "\n",
    "# t-검정 결과 출력\n",
    "print(f\"t-statistic: {t_statistic}\")\n",
    "print(f\"p-value: {p_value}\")\n",
    "\n",
    "# p-value를 기준으로 유의수준(일반적으로 0.05)과 비교하여 유의미한지 판단\n",
    "if p_value < 0.05:\n",
    "    print(\"두 집단 간의 차이는 유의미하다.\")\n",
    "else:\n",
    "    print(\"두 집단 간의 차이는 유의미하지 않다.\")\n",
    "    \n",
    "# 유의미하다. "
   ]
  },
  {
   "cell_type": "markdown",
   "id": "37a1ec34",
   "metadata": {},
   "source": [
    "### 1-4-5. Link Count"
   ]
  },
  {
   "cell_type": "code",
   "execution_count": 53,
   "id": "42482a97",
   "metadata": {},
   "outputs": [
    {
     "data": {
      "text/plain": [
       "([<matplotlib.axis.XTick at 0x7f9f4ccfc0d0>,\n",
       "  <matplotlib.axis.XTick at 0x7f9f4ccfc0a0>],\n",
       " [Text(0, 0, 'Not AD'), Text(1, 0, 'AD')])"
      ]
     },
     "execution_count": 53,
     "metadata": {},
     "output_type": "execute_result"
    },
    {
     "data": {
      "image/png": "[encoded data removed]",
      "text/plain": [
       "<Figure size 1296x360 with 2 Axes>"
      ]
     },
     "metadata": {
      "needs_background": "light"
     },
     "output_type": "display_data"
    }
   ],
   "source": [
    "#boxplot\n",
    "plt.figure(figsize=(18, 5))\n",
    "\n",
    "# 전체 분포에 대한 boxplot\n",
    "plt.subplot(1, 2, 1)\n",
    "plt.boxplot(train['Link Count'], labels=['Link Count'], showmeans=True)\n",
    "plt.title('Link Count')\n",
    "\n",
    "# 광고/비광고 별 boxplot\n",
    "plt.subplot(1, 2, 2)\n",
    "plt.title('AD vs Not AD Review Count')\n",
    "sns.boxplot(data=train, x='label', y='Link Count')\n",
    "plt.xticks(ticks=[0, 1], labels=['Not AD', 'AD'])"
   ]
  },
  {
   "cell_type": "code",
   "execution_count": 54,
   "id": "14012105",
   "metadata": {},
   "outputs": [
    {
     "name": "stdout",
     "output_type": "stream",
     "text": [
      "하한값 :  -1.5\n",
      "상한값 :  2.5\n",
      "이상치 최소 값 : 3\n",
      "이상치 최대 값 : 7\n",
      "이상치의 개수: 20\n"
     ]
    },
    {
     "data": {
      "text/plain": [
       "([<matplotlib.axis.XTick at 0x7f9f314f8400>,\n",
       "  <matplotlib.axis.XTick at 0x7f9f314f83d0>],\n",
       " [Text(0, 0, 'Not AD'), Text(1, 0, 'AD')])"
      ]
     },
     "execution_count": 54,
     "metadata": {},
     "output_type": "execute_result"
    },
    {
     "data": {
      "image/png": "[encoded data removed]",
      "text/plain": [
       "<Figure size 360x576 with 1 Axes>"
      ]
     },
     "metadata": {
      "needs_background": "light"
     },
     "output_type": "display_data"
    }
   ],
   "source": [
    "# IQR 이상치 제거\n",
    "Q1 = train['Link Count'].quantile(0.25)\n",
    "Q3 = train['Link Count'].quantile(0.75)\n",
    "IQR = Q3 - Q1\n",
    "\n",
    "lower_bound = Q1 - 1.5 * IQR\n",
    "upper_bound = Q3 + 1.5 * IQR\n",
    "\n",
    "print('하한값 : ', lower_bound)\n",
    "print('상한값 : ', upper_bound)\n",
    "\n",
    "# 이상치 찾기\n",
    "outliers = train[(train['Link Count'] < lower_bound) | (train['Link Count'] > upper_bound)]\n",
    "\n",
    "print('이상치 최소 값 :', outliers['Link Count'].min())\n",
    "print('이상치 최대 값 :', outliers['Link Count'].max())\n",
    "\n",
    "# 이상치 개수 출력\n",
    "num_outliers = len(outliers)\n",
    "print(f\"이상치의 개수: {num_outliers}\")\n",
    "\n",
    "# 이상치를 상한 값으로 대체\n",
    "train['Link Count'] = np.clip(train['Link Count'], lower_bound, upper_bound)\n",
    "\n",
    "# 이상치 대체 후 boxplot \n",
    "plt.figure(figsize=(5, 8))\n",
    "plt.title('AD vs Not AD Link Count')\n",
    "sns.boxplot(data=train, x = 'label', y = 'Link Count')\n",
    "plt.xticks(ticks=[0, 1], labels=['Not AD', 'AD'])"
   ]
  },
  {
   "cell_type": "markdown",
   "id": "45972960",
   "metadata": {},
   "source": [
    "링크의 개수는 정말 큰 차이가 없는 것을 확인할 수 있다."
   ]
  },
  {
   "cell_type": "code",
   "execution_count": 55,
   "id": "6322055a",
   "metadata": {},
   "outputs": [
    {
     "data": {
      "text/plain": [
       "count    494.000000\n",
       "mean       0.445344\n",
       "std        0.660420\n",
       "min        0.000000\n",
       "25%        0.000000\n",
       "50%        0.000000\n",
       "75%        1.000000\n",
       "max        2.500000\n",
       "Name: Link Count, dtype: float64"
      ]
     },
     "metadata": {},
     "output_type": "display_data"
    },
    {
     "data": {
      "text/plain": [
       "count    283.000000\n",
       "mean       0.303887\n",
       "std        0.595091\n",
       "min        0.000000\n",
       "25%        0.000000\n",
       "50%        0.000000\n",
       "75%        0.000000\n",
       "max        2.500000\n",
       "Name: Link Count, dtype: float64"
      ]
     },
     "metadata": {},
     "output_type": "display_data"
    }
   ],
   "source": [
    "ad_train = train.loc[train['label']==1]\n",
    "nad_train = train.loc[train['label']==0]\n",
    "display(ad_train['Link Count'].describe(), nad_train['Link Count'].describe())"
   ]
  },
  {
   "cell_type": "code",
   "execution_count": 56,
   "id": "e935cd29",
   "metadata": {},
   "outputs": [
    {
     "name": "stdout",
     "output_type": "stream",
     "text": [
      "t-statistic: 2.9767520242686\n",
      "p-value: 0.003003894536880572\n",
      "두 집단 간의 차이는 유의미하다.\n"
     ]
    }
   ],
   "source": [
    "from scipy import stats\n",
    "\n",
    "# 두 집단의 데이터 추출\n",
    "data_ad = ad_train['Link Count']\n",
    "data_nad = nad_train['Link Count']\n",
    "\n",
    "# 등분산을 가정한 t-검정\n",
    "t_statistic, p_value = stats.ttest_ind(data_ad, data_nad)\n",
    "\n",
    "# t-검정 결과 출력\n",
    "print(f\"t-statistic: {t_statistic}\")\n",
    "print(f\"p-value: {p_value}\")\n",
    "\n",
    "# p-value를 기준으로 유의수준(일반적으로 0.05)과 비교하여 유의미한지 판단\n",
    "if p_value < 0.05:\n",
    "    print(\"두 집단 간의 차이는 유의미하다.\")\n",
    "else:\n",
    "    print(\"두 집단 간의 차이는 유의미하지 않다.\")\n",
    "    \n",
    "# 유의미하다. "
   ]
  },
  {
   "cell_type": "markdown",
   "id": "43d2d7f0",
   "metadata": {},
   "source": [
    "### '내돈내산 키워드 여부'"
   ]
  },
  {
   "cell_type": "code",
   "execution_count": 16,
   "id": "19f048e5",
   "metadata": {},
   "outputs": [
    {
     "data": {
      "text/plain": [
       "count    494.000000\n",
       "mean       0.008097\n",
       "std        0.089710\n",
       "min        0.000000\n",
       "25%        0.000000\n",
       "50%        0.000000\n",
       "75%        0.000000\n",
       "max        1.000000\n",
       "Name: Keyword(내돈내산), dtype: float64"
      ]
     },
     "metadata": {},
     "output_type": "display_data"
    },
    {
     "data": {
      "text/plain": [
       "count    283.000000\n",
       "mean       0.236749\n",
       "std        0.425840\n",
       "min        0.000000\n",
       "25%        0.000000\n",
       "50%        0.000000\n",
       "75%        0.000000\n",
       "max        1.000000\n",
       "Name: Keyword(내돈내산), dtype: float64"
      ]
     },
     "metadata": {},
     "output_type": "display_data"
    }
   ],
   "source": [
    "ad_train = train.loc[train['label']==1]\n",
    "nad_train = train.loc[train['label']==0]\n",
    "display(ad_train['Keyword(내돈내산)'].describe(), nad_train['Keyword(내돈내산)'].describe())"
   ]
  },
  {
   "cell_type": "code",
   "execution_count": 17,
   "id": "8f67127e",
   "metadata": {},
   "outputs": [
    {
     "name": "stdout",
     "output_type": "stream",
     "text": [
      "Chi-square statistic: 110.56051988516985\n",
      "P-value: 7.385589325454606e-26\n",
      "두 카테고리 간의 차이는 유의미하다.\n"
     ]
    }
   ],
   "source": [
    "from scipy.stats import chi2_contingency\n",
    "\n",
    "# Crosstab 생성\n",
    "cross_tab = pd.crosstab(train['Keyword(내돈내산)'], train['label'])\n",
    "\n",
    "# 카이제곱 검정 수행\n",
    "chi2, p_value, _, _ = chi2_contingency(cross_tab)\n",
    "\n",
    "# 검정 결과 출력\n",
    "print(f\"Chi-square statistic: {chi2}\")\n",
    "print(f\"P-value: {p_value}\")\n",
    "\n",
    "# P-value를 기준으로 유의수준(일반적으로 0.05)과 비교하여 유의미한지 판단\n",
    "if p_value < 0.05:\n",
    "    print(\"두 카테고리 간의 차이는 유의미하다.\")\n",
    "else:\n",
    "    print(\"두 카테고리 간의 차이는 유의미하지 않다.\")"
   ]
  },
  {
   "cell_type": "markdown",
   "id": "55d19d05",
   "metadata": {},
   "source": [
    "### '협찬 문구' 여부"
   ]
  },
  {
   "cell_type": "code",
   "execution_count": 18,
   "id": "38c92ca6",
   "metadata": {},
   "outputs": [
    {
     "data": {
      "text/plain": [
       "count    494.000000\n",
       "mean       0.495951\n",
       "std        0.500490\n",
       "min        0.000000\n",
       "25%        0.000000\n",
       "50%        0.000000\n",
       "75%        1.000000\n",
       "max        1.000000\n",
       "Name: Sponsered word, dtype: float64"
      ]
     },
     "metadata": {},
     "output_type": "display_data"
    },
    {
     "data": {
      "text/plain": [
       "count    283.000000\n",
       "mean       0.014134\n",
       "std        0.118254\n",
       "min        0.000000\n",
       "25%        0.000000\n",
       "50%        0.000000\n",
       "75%        0.000000\n",
       "max        1.000000\n",
       "Name: Sponsered word, dtype: float64"
      ]
     },
     "metadata": {},
     "output_type": "display_data"
    }
   ],
   "source": [
    "ad_train = train.loc[train['label']==1]\n",
    "nad_train = train.loc[train['label']==0]\n",
    "display(ad_train['Sponsered word'].describe(), nad_train['Sponsered word'].describe())"
   ]
  },
  {
   "cell_type": "code",
   "execution_count": 19,
   "id": "39d29c21",
   "metadata": {},
   "outputs": [
    {
     "name": "stdout",
     "output_type": "stream",
     "text": [
      "Chi-square statistic: 189.60135969400682\n",
      "P-value: 3.884597962744419e-43\n",
      "두 카테고리 간의 차이는 유의미하다.\n"
     ]
    }
   ],
   "source": [
    "from scipy.stats import chi2_contingency\n",
    "\n",
    "# Crosstab 생성\n",
    "cross_tab = pd.crosstab(train['Sponsered word'], train['label'])\n",
    "\n",
    "# 카이제곱 검정 수행\n",
    "chi2, p_value, _, _ = chi2_contingency(cross_tab)\n",
    "\n",
    "# 검정 결과 출력\n",
    "print(f\"Chi-square statistic: {chi2}\")\n",
    "print(f\"P-value: {p_value}\")\n",
    "\n",
    "# P-value를 기준으로 유의수준(일반적으로 0.05)과 비교하여 유의미한지 판단\n",
    "if p_value < 0.05:\n",
    "    print(\"두 카테고리 간의 차이는 유의미하다.\")\n",
    "else:\n",
    "    print(\"두 카테고리 간의 차이는 유의미하지 않다.\")"
   ]
  },
  {
   "cell_type": "code",
   "execution_count": 263,
   "id": "11753b49",
   "metadata": {},
   "outputs": [],
   "source": [
    "train.to_csv('../data/train_777개_preprocessing.csv')"
   ]
  },
  {
   "cell_type": "markdown",
   "id": "b916c74d",
   "metadata": {},
   "source": [
    "## 2. Feature Engineering"
   ]
  },
  {
   "cell_type": "markdown",
   "id": "8ffd42bd",
   "metadata": {},
   "source": [
    "### 2-1. Date 칼럼의 처리\n",
    "\n",
    "네이버 블로그 노출 정책으로 인해 데이터를 수집한 시점을 기준으로 가장 최근에 작성한 포스트는 과거 시점에 작성된 포스트 대비 노출 빈도가 높아지므로 상단에 위치될 확률이 높다.\n",
    "이에 작성 날짜는 포스트의 노출과 밀접한 관련이 있기에 블로그 운영자의 목적에 따라 포스트 작성 횟수가 빈번한 경우 가장 최근 작성 날짜의 포스트가\n",
    "수집될 것으로 추정할 수 있다. \n",
    "\n",
    "따라서 상업성을 목적으로 한다면, 최근 게시글이 더 많을 수도 있다고 생각하여 최근 10일을 기준으로 하여 날짜 데이터를 binary type 형태로 바꾸어본다. \n",
    "\n",
    "데이터 수집 날짜는 20231115일을 기준으로하여 7일전의 값이라면 1, 아니라면 0의 값을 부여한다.\n",
    "\n",
    "따라서 날짜는 20231110-20231113 값 범위에 있는 값이라면 1, 아니라면 0의 값을 부여한다."
   ]
  },
  {
   "cell_type": "code",
   "execution_count": 34,
   "id": "f1ce67d5",
   "metadata": {
    "scrolled": true
   },
   "outputs": [
    {
     "data": {
      "text/html": [
       "<div>\n",
       "<style scoped>\n",
       "    .dataframe tbody tr th:only-of-type {\n",
       "        vertical-align: middle;\n",
       "    }\n",
       "\n",
       "    .dataframe tbody tr th {\n",
       "        vertical-align: top;\n",
       "    }\n",
       "\n",
       "    .dataframe thead th {\n",
       "        text-align: right;\n",
       "    }\n",
       "</style>\n",
       "<table border=\"1\" class=\"dataframe\">\n",
       "  <thead>\n",
       "    <tr style=\"text-align: right;\">\n",
       "      <th></th>\n",
       "      <th>Title</th>\n",
       "      <th>Post URL</th>\n",
       "      <th>Post</th>\n",
       "      <th>Post length</th>\n",
       "      <th>Keyword(내돈내산)</th>\n",
       "      <th>Sponsered word</th>\n",
       "      <th>Post Count</th>\n",
       "      <th>Date</th>\n",
       "      <th>Review Count</th>\n",
       "      <th>Image Count</th>\n",
       "      <th>Link Count</th>\n",
       "      <th>label</th>\n",
       "    </tr>\n",
       "  </thead>\n",
       "  <tbody>\n",
       "    <tr>\n",
       "      <th>203</th>\n",
       "      <td>세부자유여행 3박5일 상세 후기</td>\n",
       "      <td>https://blog.naver.com/parangusl_/223256108852</td>\n",
       "      <td>세부자유여행 3박5일 상세 후기공유해요. 제가 선택한 투어는 3박일정의 호캉스 투...</td>\n",
       "      <td>2750.0</td>\n",
       "      <td>0</td>\n",
       "      <td>1</td>\n",
       "      <td>43.0</td>\n",
       "      <td>20231160</td>\n",
       "      <td>4.0</td>\n",
       "      <td>28.0</td>\n",
       "      <td>0.0</td>\n",
       "      <td>1</td>\n",
       "    </tr>\n",
       "    <tr>\n",
       "      <th>204</th>\n",
       "      <td>12월 태국 치앙마이 해외여행 준비 추천 일정</td>\n",
       "      <td>https://blog.naver.com/bpkarijju/223259292307</td>\n",
       "      <td>가족, 친구와 함께 혹은 혼자 떠나도 좋은 해외여행 장소는 태국이다. 취향에 따라 ...</td>\n",
       "      <td>2752.0</td>\n",
       "      <td>0</td>\n",
       "      <td>1</td>\n",
       "      <td>100.0</td>\n",
       "      <td>20231181</td>\n",
       "      <td>8.0</td>\n",
       "      <td>20.0</td>\n",
       "      <td>0.0</td>\n",
       "      <td>1</td>\n",
       "    </tr>\n",
       "    <tr>\n",
       "      <th>205</th>\n",
       "      <td>필리핀 세부 여행 3박 5일 투어 일정 12월 1월 날씨</td>\n",
       "      <td>https://blog.naver.com/pinkyluv83/223257971834</td>\n",
       "      <td>막탄 체험 다이빙안녕하세요.해외여행 블로거 Kimi입니다.​한국에서 4시간 30분 ...</td>\n",
       "      <td>3262.0</td>\n",
       "      <td>0</td>\n",
       "      <td>1</td>\n",
       "      <td>30.0</td>\n",
       "      <td>20231171</td>\n",
       "      <td>22.0</td>\n",
       "      <td>40.0</td>\n",
       "      <td>1.0</td>\n",
       "      <td>1</td>\n",
       "    </tr>\n",
       "    <tr>\n",
       "      <th>209</th>\n",
       "      <td>10월 단풍 여행일기 한 달 꽉 채웠던 일정</td>\n",
       "      <td>https://blog.naver.com/mee1202/223262815066</td>\n",
       "      <td>10월 여행일기 주말, 주중 한 달 꽉 채웠던 날들  안녕하세요. 쥬제이맘이에요. ...</td>\n",
       "      <td>2324.0</td>\n",
       "      <td>0</td>\n",
       "      <td>0</td>\n",
       "      <td>706.0</td>\n",
       "      <td>20231113</td>\n",
       "      <td>22.0</td>\n",
       "      <td>44.0</td>\n",
       "      <td>0.0</td>\n",
       "      <td>0</td>\n",
       "    </tr>\n",
       "    <tr>\n",
       "      <th>213</th>\n",
       "      <td>강릉역 렌트카 투루카로 떠나는 편안한 강릉여행</td>\n",
       "      <td>https://blog.naver.com/daisy1505/223258885406</td>\n",
       "      <td>지난 강릉여행에서 여행 계획을 세우며 고심한 것이 대중교통을 이용하여 다닐 것인지 ...</td>\n",
       "      <td>2206.0</td>\n",
       "      <td>0</td>\n",
       "      <td>0</td>\n",
       "      <td>15.0</td>\n",
       "      <td>20231181</td>\n",
       "      <td>12.0</td>\n",
       "      <td>26.0</td>\n",
       "      <td>1.0</td>\n",
       "      <td>0</td>\n",
       "    </tr>\n",
       "    <tr>\n",
       "      <th>...</th>\n",
       "      <td>...</td>\n",
       "      <td>...</td>\n",
       "      <td>...</td>\n",
       "      <td>...</td>\n",
       "      <td>...</td>\n",
       "      <td>...</td>\n",
       "      <td>...</td>\n",
       "      <td>...</td>\n",
       "      <td>...</td>\n",
       "      <td>...</td>\n",
       "      <td>...</td>\n",
       "      <td>...</td>\n",
       "    </tr>\n",
       "    <tr>\n",
       "      <th>729</th>\n",
       "      <td>회기역 맛집 경희대 근처 파스타 맛있는 굿갓</td>\n",
       "      <td>https://blog.naver.com/damie0307/223264873762</td>\n",
       "      <td>안녕하세요날씨가 갑자기 너무 추워졌네요ㅠㅠ모두들 감기 조심하시고, 오늘은 회기역 맛...</td>\n",
       "      <td>1911.0</td>\n",
       "      <td>0</td>\n",
       "      <td>0</td>\n",
       "      <td>330.0</td>\n",
       "      <td>20231114</td>\n",
       "      <td>1.0</td>\n",
       "      <td>19.0</td>\n",
       "      <td>0.0</td>\n",
       "      <td>1</td>\n",
       "    </tr>\n",
       "    <tr>\n",
       "      <th>732</th>\n",
       "      <td>경희대 맛집 회기역 맛집 경양카츠 경희대점</td>\n",
       "      <td>https://blog.naver.com/euna2018/223259451028</td>\n",
       "      <td>​​경양카츠는 가로수길점, 연남점등 많은 핫플레이스에 자리 잡고 있는 맛집이죠!그 ...</td>\n",
       "      <td>1879.0</td>\n",
       "      <td>0</td>\n",
       "      <td>0</td>\n",
       "      <td>544.0</td>\n",
       "      <td>20231182</td>\n",
       "      <td>1.0</td>\n",
       "      <td>17.0</td>\n",
       "      <td>0.0</td>\n",
       "      <td>1</td>\n",
       "    </tr>\n",
       "    <tr>\n",
       "      <th>734</th>\n",
       "      <td>경희대 맛집] 카이스트 주변에 위치한 가성비 좋은 초밥 맛집...</td>\n",
       "      <td>https://blog.naver.com/stellar_63/223258024836</td>\n",
       "      <td>육초연서울특별시 동대문구 회기로13길 24 1층 경희대 맛집 육초연서울특별시 동대문...</td>\n",
       "      <td>1217.0</td>\n",
       "      <td>0</td>\n",
       "      <td>0</td>\n",
       "      <td>382.0</td>\n",
       "      <td>20231189</td>\n",
       "      <td>0.0</td>\n",
       "      <td>28.0</td>\n",
       "      <td>0.0</td>\n",
       "      <td>1</td>\n",
       "    </tr>\n",
       "    <tr>\n",
       "      <th>757</th>\n",
       "      <td>식물성단백질보충제 추천, 뉴베스트 뉴제스트피 프로틴 쉐이크</td>\n",
       "      <td>https://blog.naver.com/11ansgallry/223264515854</td>\n",
       "      <td>식물성단백질보충제 추천 뉴베스트 뉴제스트피 프로틴 쉐이크안녕하세요 제제와앨리스 입니...</td>\n",
       "      <td>1561.0</td>\n",
       "      <td>0</td>\n",
       "      <td>0</td>\n",
       "      <td>1038.0</td>\n",
       "      <td>20231114</td>\n",
       "      <td>3.0</td>\n",
       "      <td>19.0</td>\n",
       "      <td>1.0</td>\n",
       "      <td>1</td>\n",
       "    </tr>\n",
       "    <tr>\n",
       "      <th>776</th>\n",
       "      <td>곡물맛 프로틴 쉐이크 오늘틴 먹는것까지 오운완!</td>\n",
       "      <td>https://blog.naver.com/newha_world/223259469217</td>\n",
       "      <td>곡물맛 프로틴 쉐이크 오늘틴 먹는것까지 오운완!​​이제는 헬린이를 떼고, 헬창으로 ...</td>\n",
       "      <td>1952.0</td>\n",
       "      <td>0</td>\n",
       "      <td>0</td>\n",
       "      <td>716.0</td>\n",
       "      <td>20231182</td>\n",
       "      <td>2.0</td>\n",
       "      <td>25.0</td>\n",
       "      <td>0.0</td>\n",
       "      <td>1</td>\n",
       "    </tr>\n",
       "  </tbody>\n",
       "</table>\n",
       "<p>116 rows × 12 columns</p>\n",
       "</div>"
      ],
      "text/plain": [
       "                                     Title  \\\n",
       "203                      세부자유여행 3박5일 상세 후기   \n",
       "204              12월 태국 치앙마이 해외여행 준비 추천 일정   \n",
       "205        필리핀 세부 여행 3박 5일 투어 일정 12월 1월 날씨   \n",
       "209               10월 단풍 여행일기 한 달 꽉 채웠던 일정   \n",
       "213              강릉역 렌트카 투루카로 떠나는 편안한 강릉여행   \n",
       "..                                     ...   \n",
       "729               회기역 맛집 경희대 근처 파스타 맛있는 굿갓   \n",
       "732                경희대 맛집 회기역 맛집 경양카츠 경희대점   \n",
       "734  경희대 맛집] 카이스트 주변에 위치한 가성비 좋은 초밥 맛집...    \n",
       "757       식물성단백질보충제 추천, 뉴베스트 뉴제스트피 프로틴 쉐이크   \n",
       "776             곡물맛 프로틴 쉐이크 오늘틴 먹는것까지 오운완!   \n",
       "\n",
       "                                            Post URL  \\\n",
       "203   https://blog.naver.com/parangusl_/223256108852   \n",
       "204    https://blog.naver.com/bpkarijju/223259292307   \n",
       "205   https://blog.naver.com/pinkyluv83/223257971834   \n",
       "209      https://blog.naver.com/mee1202/223262815066   \n",
       "213    https://blog.naver.com/daisy1505/223258885406   \n",
       "..                                               ...   \n",
       "729    https://blog.naver.com/damie0307/223264873762   \n",
       "732     https://blog.naver.com/euna2018/223259451028   \n",
       "734   https://blog.naver.com/stellar_63/223258024836   \n",
       "757  https://blog.naver.com/11ansgallry/223264515854   \n",
       "776  https://blog.naver.com/newha_world/223259469217   \n",
       "\n",
       "                                                  Post  Post length  \\\n",
       "203   세부자유여행 3박5일 상세 후기공유해요. 제가 선택한 투어는 3박일정의 호캉스 투...       2750.0   \n",
       "204  가족, 친구와 함께 혹은 혼자 떠나도 좋은 해외여행 장소는 태국이다. 취향에 따라 ...       2752.0   \n",
       "205  막탄 체험 다이빙안녕하세요.해외여행 블로거 Kimi입니다.​한국에서 4시간 30분 ...       3262.0   \n",
       "209  10월 여행일기 주말, 주중 한 달 꽉 채웠던 날들  안녕하세요. 쥬제이맘이에요. ...       2324.0   \n",
       "213  지난 강릉여행에서 여행 계획을 세우며 고심한 것이 대중교통을 이용하여 다닐 것인지 ...       2206.0   \n",
       "..                                                 ...          ...   \n",
       "729  안녕하세요날씨가 갑자기 너무 추워졌네요ㅠㅠ모두들 감기 조심하시고, 오늘은 회기역 맛...       1911.0   \n",
       "732  ​​경양카츠는 가로수길점, 연남점등 많은 핫플레이스에 자리 잡고 있는 맛집이죠!그 ...       1879.0   \n",
       "734  육초연서울특별시 동대문구 회기로13길 24 1층 경희대 맛집 육초연서울특별시 동대문...       1217.0   \n",
       "757  식물성단백질보충제 추천 뉴베스트 뉴제스트피 프로틴 쉐이크안녕하세요 제제와앨리스 입니...       1561.0   \n",
       "776  곡물맛 프로틴 쉐이크 오늘틴 먹는것까지 오운완!​​이제는 헬린이를 떼고, 헬창으로 ...       1952.0   \n",
       "\n",
       "     Keyword(내돈내산)  Sponsered word  Post Count      Date  Review Count  \\\n",
       "203              0               1        43.0  20231160           4.0   \n",
       "204              0               1       100.0  20231181           8.0   \n",
       "205              0               1        30.0  20231171          22.0   \n",
       "209              0               0       706.0  20231113          22.0   \n",
       "213              0               0        15.0  20231181          12.0   \n",
       "..             ...             ...         ...       ...           ...   \n",
       "729              0               0       330.0  20231114           1.0   \n",
       "732              0               0       544.0  20231182           1.0   \n",
       "734              0               0       382.0  20231189           0.0   \n",
       "757              0               0      1038.0  20231114           3.0   \n",
       "776              0               0       716.0  20231182           2.0   \n",
       "\n",
       "     Image Count  Link Count  label  \n",
       "203         28.0         0.0      1  \n",
       "204         20.0         0.0      1  \n",
       "205         40.0         1.0      1  \n",
       "209         44.0         0.0      0  \n",
       "213         26.0         1.0      0  \n",
       "..           ...         ...    ...  \n",
       "729         19.0         0.0      1  \n",
       "732         17.0         0.0      1  \n",
       "734         28.0         0.0      1  \n",
       "757         19.0         1.0      1  \n",
       "776         25.0         0.0      1  \n",
       "\n",
       "[116 rows x 12 columns]"
      ]
     },
     "execution_count": 34,
     "metadata": {},
     "output_type": "execute_result"
    }
   ],
   "source": [
    "train['Date'] = train['Date'].astype(str).str[:8]\n",
    "# 20231110' ~ '20231115'를 가지는 데이터 선택\n",
    "filtered_data = train[train['Date'].str.startswith(('2023116','2023117','2023118', '2023119')) |\n",
    "                      ((train['Date'] >= '20231113') & (train['Date'] <= '20231115'))]\n",
    "\n",
    "filtered_data"
   ]
  },
  {
   "cell_type": "code",
   "execution_count": 28,
   "id": "3fbcf7e4",
   "metadata": {},
   "outputs": [
    {
     "data": {
      "text/plain": [
       "1    74\n",
       "0    42\n",
       "Name: label, dtype: int64"
      ]
     },
     "execution_count": 28,
     "metadata": {},
     "output_type": "execute_result"
    }
   ],
   "source": [
    "filtered_data['label'].value_counts()"
   ]
  },
  {
   "cell_type": "markdown",
   "id": "54462fdc",
   "metadata": {},
   "source": [
    "filtered_data 의 분포를 확인해보면 일주일전의 블로그들은 광고인 데이터가 훨씬 많은 것을 확인할 수 있다. \n",
    "\n",
    "이제 해당 date값을 이진 데이터로 변환한다."
   ]
  },
  {
   "cell_type": "code",
   "execution_count": 35,
   "id": "cc4f5ee9",
   "metadata": {},
   "outputs": [
    {
     "data": {
      "text/html": [
       "<div>\n",
       "<style scoped>\n",
       "    .dataframe tbody tr th:only-of-type {\n",
       "        vertical-align: middle;\n",
       "    }\n",
       "\n",
       "    .dataframe tbody tr th {\n",
       "        vertical-align: top;\n",
       "    }\n",
       "\n",
       "    .dataframe thead th {\n",
       "        text-align: right;\n",
       "    }\n",
       "</style>\n",
       "<table border=\"1\" class=\"dataframe\">\n",
       "  <thead>\n",
       "    <tr style=\"text-align: right;\">\n",
       "      <th></th>\n",
       "      <th>Title</th>\n",
       "      <th>Post URL</th>\n",
       "      <th>Post</th>\n",
       "      <th>Post length</th>\n",
       "      <th>Keyword(내돈내산)</th>\n",
       "      <th>Sponsered word</th>\n",
       "      <th>Post Count</th>\n",
       "      <th>Date</th>\n",
       "      <th>Review Count</th>\n",
       "      <th>Image Count</th>\n",
       "      <th>Link Count</th>\n",
       "      <th>label</th>\n",
       "      <th>Posted A week ago</th>\n",
       "    </tr>\n",
       "  </thead>\n",
       "  <tbody>\n",
       "    <tr>\n",
       "      <th>0</th>\n",
       "      <td>효과본 사람이 추천하는 주름개선화장품</td>\n",
       "      <td>https://blog.naver.com/mgcho3/223223137751</td>\n",
       "      <td>관리 전제가 늙어간다는 생각을 안 해봤는데체력도 달라지고 피부도 점점 달라지는 모습...</td>\n",
       "      <td>2559.0</td>\n",
       "      <td>1</td>\n",
       "      <td>0</td>\n",
       "      <td>399.0</td>\n",
       "      <td>20231041</td>\n",
       "      <td>0.0</td>\n",
       "      <td>13.0</td>\n",
       "      <td>0.0</td>\n",
       "      <td>0</td>\n",
       "      <td>0</td>\n",
       "    </tr>\n",
       "    <tr>\n",
       "      <th>1</th>\n",
       "      <td>비타민화장품 깨끗한 피부로</td>\n",
       "      <td>https://blog.naver.com/lovejungcy/223185240342</td>\n",
       "      <td>비타민화장품 깨끗한 피부로나이가 확실히 들어갈수록 점점 수분감도많이 줄어들기 시작을...</td>\n",
       "      <td>2671.0</td>\n",
       "      <td>0</td>\n",
       "      <td>1</td>\n",
       "      <td>761.0</td>\n",
       "      <td>20238171</td>\n",
       "      <td>10.0</td>\n",
       "      <td>15.0</td>\n",
       "      <td>0.0</td>\n",
       "      <td>1</td>\n",
       "      <td>0</td>\n",
       "    </tr>\n",
       "    <tr>\n",
       "      <th>2</th>\n",
       "      <td>군대 px 화장품 내돈내산 진정템 추천</td>\n",
       "      <td>https://blog.naver.com/sesank/223196415814</td>\n",
       "      <td>잇님들 안녕하쎄우 ~~제가 저번에 동생 군대갔다 했는데시간이 벌써 그렇게 된곤지.....</td>\n",
       "      <td>3094.0</td>\n",
       "      <td>1</td>\n",
       "      <td>0</td>\n",
       "      <td>119.0</td>\n",
       "      <td>20238291</td>\n",
       "      <td>10.0</td>\n",
       "      <td>20.0</td>\n",
       "      <td>0.0</td>\n",
       "      <td>0</td>\n",
       "      <td>0</td>\n",
       "    </tr>\n",
       "  </tbody>\n",
       "</table>\n",
       "</div>"
      ],
      "text/plain": [
       "                   Title                                        Post URL  \\\n",
       "0   효과본 사람이 추천하는 주름개선화장품      https://blog.naver.com/mgcho3/223223137751   \n",
       "1         비타민화장품 깨끗한 피부로  https://blog.naver.com/lovejungcy/223185240342   \n",
       "2  군대 px 화장품 내돈내산 진정템 추천      https://blog.naver.com/sesank/223196415814   \n",
       "\n",
       "                                                Post  Post length  \\\n",
       "0  관리 전제가 늙어간다는 생각을 안 해봤는데체력도 달라지고 피부도 점점 달라지는 모습...       2559.0   \n",
       "1  비타민화장품 깨끗한 피부로나이가 확실히 들어갈수록 점점 수분감도많이 줄어들기 시작을...       2671.0   \n",
       "2  잇님들 안녕하쎄우 ~~제가 저번에 동생 군대갔다 했는데시간이 벌써 그렇게 된곤지.....       3094.0   \n",
       "\n",
       "   Keyword(내돈내산)  Sponsered word  Post Count      Date  Review Count  \\\n",
       "0              1               0       399.0  20231041           0.0   \n",
       "1              0               1       761.0  20238171          10.0   \n",
       "2              1               0       119.0  20238291          10.0   \n",
       "\n",
       "   Image Count  Link Count  label  Posted A week ago  \n",
       "0         13.0         0.0      0                  0  \n",
       "1         15.0         0.0      1                  0  \n",
       "2         20.0         0.0      0                  0  "
      ]
     },
     "execution_count": 35,
     "metadata": {},
     "output_type": "execute_result"
    }
   ],
   "source": [
    "train['Posted A week ago'] = 0\n",
    "train.loc[train['Date'].isin(filtered_data['Date']), 'Posted A week ago'] = 1\n",
    "train.head(3)"
   ]
  },
  {
   "cell_type": "markdown",
   "id": "fab0e42b",
   "metadata": {},
   "source": [
    "분포를 확인해보면 AD 가 지난 일주일 동안의 게시글이 더 많은 것을 확인할 수 있다."
   ]
  },
  {
   "cell_type": "code",
   "execution_count": 45,
   "id": "3fac18b8",
   "metadata": {
    "scrolled": false
   },
   "outputs": [
    {
     "data": {
      "image/png": "[encoded data removed]",
      "text/plain": [
       "<Figure size 864x432 with 2 Axes>"
      ]
     },
     "metadata": {
      "needs_background": "light"
     },
     "output_type": "display_data"
    }
   ],
   "source": [
    "counts = pd.crosstab(train['label'], train['Posted A week ago'])\n",
    "\n",
    "fig, axes = plt.subplots(nrows=1, ncols=2, figsize=(12, 6))\n",
    "\n",
    "\n",
    "# 첫 번째 subplot: 'Posted A week ago' 값에 대한 막대그래프\n",
    "width = 0.35\n",
    "axes[0].bar(counts.index - width/2, counts[0], width, label='Posted A week ago=0', color='blue', alpha=0.7)\n",
    "axes[0].bar(counts.index + width/2, counts[1], width, label='Posted A week ago=1', color='green', alpha=0.7)\n",
    "axes[0].set_title('Distribution of Posted A week ago by Label values')\n",
    "axes[0].set_xlabel('Label')\n",
    "axes[0].set_ylabel('Posted A Week ago count')\n",
    "axes[0].set_xticks(counts.index)\n",
    "axes[0].set_xticklabels(['Not AD', 'AD'])\n",
    "axes[0].legend()\n",
    "\n",
    "# 두 번째 subplot: 'Posted A week ago=1' 값에 대한 막대그래프\n",
    "axes[1].bar(counts.index, counts[1], width, label='Posted A week ago=1', color='green', alpha=0.7)\n",
    "axes[1].set_title('Distribution of Posted A week ago=1 by Label values')\n",
    "axes[1].set_xlabel('Label')\n",
    "axes[1].set_ylabel('Posted A Week ago=1 count')\n",
    "axes[1].set_xticks(counts.index)\n",
    "axes[1].set_xticklabels(['Not AD', 'AD'])\n",
    "axes[1].legend()\n",
    "\n",
    "plt.tight_layout()\n",
    "plt.show()"
   ]
  },
  {
   "cell_type": "code",
   "execution_count": 38,
   "id": "20eaa54d",
   "metadata": {},
   "outputs": [
    {
     "name": "stdout",
     "output_type": "stream",
     "text": [
      "Chi-square statistic: 0.0\n",
      "P-value: 1.0\n",
      "두 카테고리 간의 차이는 유의미하지 않다.\n"
     ]
    }
   ],
   "source": [
    "from scipy.stats import chi2_contingency\n",
    "\n",
    "# Crosstab 생성\n",
    "cross_tab = pd.crosstab(train['Posted A week ago'], train['label'])\n",
    "\n",
    "# 카이제곱 검정 수행\n",
    "chi2, p_value, _, _ = chi2_contingency(cross_tab)\n",
    "\n",
    "# 검정 결과 출력\n",
    "print(f\"Chi-square statistic: {chi2}\")\n",
    "print(f\"P-value: {p_value}\")\n",
    "\n",
    "# P-value를 기준으로 유의수준(일반적으로 0.05)과 비교하여 유의미한지 판단\n",
    "if p_value < 0.05:\n",
    "    print(\"두 카테고리 간의 차이는 유의미하다.\")\n",
    "else:\n",
    "    print(\"두 카테고리 간의 차이는 유의미하지 않다.\")"
   ]
  },
  {
   "cell_type": "markdown",
   "id": "a947a69d",
   "metadata": {},
   "source": [
    "### 4. Standard scaler\n",
    "\n",
    "이상치를 제거해준 뒤 스케일링 작업을 진행한다."
   ]
  },
  {
   "cell_type": "code",
   "execution_count": 36,
   "id": "418d4979",
   "metadata": {},
   "outputs": [],
   "source": [
    "# 스케일링 처리\n",
    "from sklearn.preprocessing import StandardScaler\n",
    "\n",
    "std = StandardScaler()\n",
    "train = std.fit_transform(train)"
   ]
  },
  {
   "cell_type": "markdown",
   "id": "da6f12a7",
   "metadata": {},
   "source": [
    "# EDA"
   ]
  },
  {
   "cell_type": "markdown",
   "id": "505b5f8e",
   "metadata": {},
   "source": [
    "이제까지 전처리된 데이터를 활용하여 실제 레이블 값과의 상관관계를 분석한다.\n",
    "\n",
    "히트맵을 통해 확인한 결과, keyword, sponseredword 는 큰 상관관계를 가지는 것이 확인된다. \n",
    "\n",
    "Post A week ago의 경우 거의 상관관계가 나타나지 않고 있다. "
   ]
  },
  {
   "cell_type": "code",
   "execution_count": 55,
   "id": "d1390630",
   "metadata": {},
   "outputs": [
    {
     "name": "stderr",
     "output_type": "stream",
     "text": [
      "/Users/jominseo/opt/anaconda3/lib/python3.9/site-packages/seaborn/utils.py:95: UserWarning:\n",
      "\n",
      "Glyph 45236 (\\N{HANGUL SYLLABLE NAE}) missing from current font.\n",
      "\n",
      "/Users/jominseo/opt/anaconda3/lib/python3.9/site-packages/seaborn/utils.py:95: UserWarning:\n",
      "\n",
      "Glyph 46024 (\\N{HANGUL SYLLABLE DON}) missing from current font.\n",
      "\n",
      "/Users/jominseo/opt/anaconda3/lib/python3.9/site-packages/seaborn/utils.py:95: UserWarning:\n",
      "\n",
      "Glyph 49328 (\\N{HANGUL SYLLABLE SAN}) missing from current font.\n",
      "\n"
     ]
    },
    {
     "data": {
      "text/plain": [
       "<AxesSubplot:>"
      ]
     },
     "execution_count": 55,
     "metadata": {},
     "output_type": "execute_result"
    },
    {
     "name": "stderr",
     "output_type": "stream",
     "text": [
      "/Users/jominseo/opt/anaconda3/lib/python3.9/site-packages/IPython/core/pylabtools.py:151: UserWarning:\n",
      "\n",
      "Glyph 45236 (\\N{HANGUL SYLLABLE NAE}) missing from current font.\n",
      "\n",
      "/Users/jominseo/opt/anaconda3/lib/python3.9/site-packages/IPython/core/pylabtools.py:151: UserWarning:\n",
      "\n",
      "Glyph 46024 (\\N{HANGUL SYLLABLE DON}) missing from current font.\n",
      "\n",
      "/Users/jominseo/opt/anaconda3/lib/python3.9/site-packages/IPython/core/pylabtools.py:151: UserWarning:\n",
      "\n",
      "Glyph 49328 (\\N{HANGUL SYLLABLE SAN}) missing from current font.\n",
      "\n"
     ]
    },
    {
     "data": {
      "image/png": "[encoded data removed]",
      "text/plain": [
       "<Figure size 504x360 with 2 Axes>"
      ]
     },
     "metadata": {
      "needs_background": "light"
     },
     "output_type": "display_data"
    }
   ],
   "source": [
    "corr = train.corr()\n",
    "plt.figure(figsize=(7, 5))\n",
    "sns.heatmap(corr,cmap = 'RdYlBu_r', vmin = -1, vmax = 1, annot=True, fmt='.2f')"
   ]
  }
 ],
 "metadata": {
  "kernelspec": {
   "display_name": "Python 3 (ipykernel)",
   "language": "python",
   "name": "python3"
  },
  "language_info": {
   "codemirror_mode": {
    "name": "ipython",
    "version": 3
   },
   "file_extension": ".py",
   "mimetype": "text/x-python",
   "name": "python",
   "nbconvert_exporter": "python",
   "pygments_lexer": "ipython3",
   "version": "3.9.12"
  }
 },
 "nbformat": 4,
 "nbformat_minor": 5
}
